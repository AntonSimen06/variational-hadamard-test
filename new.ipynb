{
 "cells": [
  {
   "cell_type": "code",
   "execution_count": 68,
   "metadata": {},
   "outputs": [],
   "source": [
    "from qiskit import *\n",
    "from qiskit.visualization import *\n",
    "import numpy as np\n",
    "\n",
    "simulator = BasicAer.get_backend(\"qasm_simulator\")"
   ]
  },
  {
   "cell_type": "code",
   "execution_count": 69,
   "metadata": {},
   "outputs": [],
   "source": [
    "def single_exp_val(var_params, pauli_op):\n",
    "\n",
    "    qc = QuantumCircuit(2,1)\n",
    "\n",
    "    qc.h(0)\n",
    "\n",
    "    qc.rx(var_params[0],1)\n",
    "    qc.ry(var_params[1],1)\n",
    "    qc.rz(var_params[2],1)\n",
    "\n",
    "    qc.rx(var_params[3],1)\n",
    "    qc.ry(var_params[4],1)\n",
    "    qc.rz(var_params[5],1)\n",
    "\n",
    "    if pauli_op == 'Z':\n",
    "        qc.cz(0,1)\n",
    "    elif pauli_op == 'X':\n",
    "        qc.cx(0,1)\n",
    "\n",
    "    qc.h(0)\n",
    "    qc.measure(0,0)\n",
    "\n",
    "    num_shots = 2048\n",
    "\n",
    "    counts = execute(qc, backend=simulator, shots=num_shots).result().get_counts(qc)\n",
    "    \n",
    "    if '0' not in counts:\n",
    "        counts['0']=0\n",
    "    if '1' not in counts:\n",
    "        counts['1']=0\n",
    "\n",
    "    exp_val = (counts['0'] - counts['1'])/num_shots\n",
    "        \n",
    "    return exp_val"
   ]
  },
  {
   "cell_type": "code",
   "execution_count": 70,
   "metadata": {},
   "outputs": [
    {
     "data": {
      "text/plain": [
       "2.3388671875"
      ]
     },
     "execution_count": 70,
     "metadata": {},
     "output_type": "execute_result"
    }
   ],
   "source": [
    "3*single_exp_val([0,1,2,3,4,5],'Z') - 2*single_exp_val([0,1,2,3,4,5],'X') + 1"
   ]
  },
  {
   "cell_type": "code",
   "execution_count": 71,
   "metadata": {},
   "outputs": [],
   "source": [
    "z = np.matrix([[1,0],[0,-1]])\n",
    "i = np.identity(2)\n",
    "x = np.matrix([[0,1],[1,0]])\n",
    "\n",
    "matrix_h = 3*z - 2*x + i"
   ]
  },
  {
   "cell_type": "code",
   "execution_count": 72,
   "metadata": {},
   "outputs": [],
   "source": [
    "def cost_function(params):\n",
    "    cost = 3*single_exp_val(params,'Z') - 2*single_exp_val(params,'X') + 1\n",
    "    return cost"
   ]
  },
  {
   "cell_type": "code",
   "execution_count": 73,
   "metadata": {},
   "outputs": [
    {
     "data": {
      "text/plain": [
       "2.5029296875"
      ]
     },
     "execution_count": 73,
     "metadata": {},
     "output_type": "execute_result"
    }
   ],
   "source": [
    "cost_function([0,1,2,3,4,5])"
   ]
  },
  {
   "cell_type": "code",
   "execution_count": 74,
   "metadata": {},
   "outputs": [],
   "source": [
    "import scipy\n",
    "from scipy import optimize\n",
    "res = scipy.optimize.minimize(cost_function, x0=np.ones(6), \n",
    "                                method = 'COBYLA', callback=None,\n",
    "                                options={'maxiter': 1000, 'ftol': 1e-06, 'iprint': 1, 'disp': True, \n",
    "                                'eps': 1.4901161193847656e-08, 'finite_diff_rel_step': None})"
   ]
  },
  {
   "cell_type": "code",
   "execution_count": 75,
   "metadata": {},
   "outputs": [
    {
     "data": {
      "text/plain": [
       "     fun: -2.4853515625\n",
       "   maxcv: 0.0\n",
       " message: 'Optimization terminated successfully.'\n",
       "    nfev: 52\n",
       "  status: 1\n",
       " success: True\n",
       "       x: array([1.00001465, 1.00004545, 1.00003041, 2.00001023, 0.99992012,\n",
       "       1.00001757])"
      ]
     },
     "execution_count": 75,
     "metadata": {},
     "output_type": "execute_result"
    }
   ],
   "source": [
    "res"
   ]
  },
  {
   "cell_type": "code",
   "execution_count": 76,
   "metadata": {},
   "outputs": [
    {
     "data": {
      "text/plain": [
       "-2.517578125"
      ]
     },
     "execution_count": 76,
     "metadata": {},
     "output_type": "execute_result"
    }
   ],
   "source": [
    "cost_function(res['x'])"
   ]
  },
  {
   "cell_type": "code",
   "execution_count": 77,
   "metadata": {},
   "outputs": [
    {
     "name": "stdout",
     "output_type": "stream",
     "text": [
      "-2.6055512754639896\n"
     ]
    }
   ],
   "source": [
    "print(min(np.linalg.eig(matrix_h)[0]))"
   ]
  },
  {
   "cell_type": "code",
   "execution_count": null,
   "metadata": {},
   "outputs": [],
   "source": []
  }
 ],
 "metadata": {
  "kernelspec": {
   "display_name": "Python 3.9.12 ('base')",
   "language": "python",
   "name": "python3"
  },
  "language_info": {
   "codemirror_mode": {
    "name": "ipython",
    "version": 3
   },
   "file_extension": ".py",
   "mimetype": "text/x-python",
   "name": "python",
   "nbconvert_exporter": "python",
   "pygments_lexer": "ipython3",
   "version": "3.9.12"
  },
  "orig_nbformat": 4,
  "vscode": {
   "interpreter": {
    "hash": "4fed6fc55d4ae3f7785493b66026376f3bc14b86eb26260f45711c87f1ac3e26"
   }
  }
 },
 "nbformat": 4,
 "nbformat_minor": 2
}
